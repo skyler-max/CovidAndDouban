{
 "cells": [
  {
   "cell_type": "code",
   "execution_count": null,
   "metadata": {},
   "outputs": [],
   "source": [
    "from selenium import webdriver\n",
    "from lxml import etree\n",
    "import requests\n",
    "import pandas as pd\n",
    "import time\n",
    "from selenium.webdriver.common.by import By\n",
    "from selenium.webdriver.support.ui import WebDriverWait\n",
    "from selenium.webdriver.support import expected_conditions as EC\n",
    "import re"
   ]
  },
  {
   "cell_type": "code",
   "execution_count": null,
   "metadata": {},
   "outputs": [],
   "source": [
    "def get_web_data(dom=None, cookies=None):\n",
    "    '''\n",
    "    获取每页评论数据\n",
    "    '''\n",
    "    names = dom.xpath('//div[@class=\"comment-item \"]//span[@class=\"comment-info\"]/a/text()')           # 用户名\n",
    "    ratings = dom.xpath('//div[@class=\"comment-item \"]//span[@class=\"comment-info\"]/span[2]/@class')   # 评分\n",
    "    times = dom.xpath('//div[@class=\"comment-item \"]//span[@class=\"comment-info\"]/span[@class=\"comment-time \"]/@title')     # 评论发布时间\n",
    "    message = dom.xpath('//div[@class=\"comment-item \"]//div[@class=\"comment\"]//span[@class=\"short\"]/text()')    # 短评正文\n",
    "    user_url = dom.xpath('//div[@class=\"comment-item \"]//span[@class=\"comment-info\"]/a/@href')           # 用户主页网址\n",
    "    votes = dom.xpath('//div[@class=\"comment-item \"]//div[@class=\"comment\"]//span[@class=\"votes\"]/text()')    # 赞同数量\n",
    "    cities = []\n",
    "    load_times = []\n",
    "    for i in user_url:\n",
    "        web_data = requests.get(i, cookies=cookies)\n",
    "        dom_url = etree.HTML(web_data.text, etree.HTMLParser(encoding='utf-8'))\n",
    "        address = dom_url.xpath('//div[@class=\"basic-info\"]//div[@class=\"user-info\"]/a/text()')                    # 用户居住地\n",
    "        load_time = dom_url.xpath('//div[@class=\"basic-info\"]//div[@class=\"user-info\"]/div[@class=\"pl\"]/text()')   # 用户入会时间\n",
    "        cities.append(address)\n",
    "        load_times.append(load_time)\n",
    "        time.sleep(3)\n",
    "    ratings = ['' if 'rating' not in i else int(re.findall('\\d{2}', i)[0]) for i in ratings]   # 评分数据整理\n",
    "    load_times = ['' if i == [] else i[1].strip()[:-2] for i in load_times]   # 入会数据整理\n",
    "    cities = ['' if i == [] else i[0] for i in cities]   # 居住地数据整理\n",
    "    data = pd.DataFrame({\n",
    "        '用户名': names,\n",
    "        '居住城市': cities,\n",
    "        '加入时间': load_times,\n",
    "        '评分': ratings,\n",
    "        '发表时间': times,\n",
    "        '短评正文': message,\n",
    "        '赞同数量': votes\n",
    "    })\n",
    "    return data\n"
   ]
  },
  {
   "cell_type": "code",
   "execution_count": null,
   "metadata": {},
   "outputs": [],
   "source": [
    "driver = webdriver.Chrome()   # 启动chrome浏览器\n",
    "url = 'https://movie.douban.com/subject/26266893/comments?status=P'\n",
    "driver.get(url)   # 获取网页源码数据"
   ]
  },
  {
   "cell_type": "code",
   "execution_count": null,
   "metadata": {},
   "outputs": [],
   "source": [
    "cookies_str = 'bid=4oKfJYlCtxM; ap_v=0,6.0; _pk_ses.100001.4cf6=*; __utma=30149280.2037271657.1609905129.1609905129.1609905129.1; __utmc=30149280; __utmz=30149280.1609905129.1.1.utmcsr=(direct)|utmccn=(direct)|utmcmd=(none); __utma=223695111.99416835.1609905129.1609905129.1609905129.1; __utmb=223695111.0.10.1609905129; __utmc=223695111; __utmz=223695111.1609905129.1.1.utmcsr=(direct)|utmccn=(direct)|utmcmd=(none); dbcl2=\"146466491:ZtOBgFHlFds\"; ck=X8-j; push_noty_num=0; push_doumail_num=0; __utmt=1; __utmv=30149280.14646; __utmb=30149280.2.10.1609905129; _pk_id.100001.4cf6=6bf19fc7f349fb52.1609905129.1.1609905561.1609905129.'\n",
    "cookies = {}\n",
    "for i in cookies_str.split(';'):  # 将cookies整理成所需格式\n",
    "    k, v = i.split('=', 1)\n",
    "    cookies[k] = v"
   ]
  },
  {
   "cell_type": "code",
   "execution_count": null,
   "metadata": {},
   "outputs": [],
   "source": [
    "all_data = pd.DataFrame()\n",
    "wait = WebDriverWait(driver, 10)\n",
    "while True:\n",
    "    wait.until(\n",
    "        EC.element_to_be_clickable(\n",
    "        (By.CSS_SELECTOR, '#comments > div:nth-child(20) > div.comment > h3 > span.comment-info > a') # 当前页最后一个“用户”按钮是否可以点击\n",
    "    )\n",
    "    )\n",
    "    dom = etree.HTML(driver.page_source, etree.HTMLParser(encoding='utf-8'))\n",
    "    data = get_web_data(dom=dom, cookies=cookies)\n",
    "    all_data = pd.concat([all_data, data], axis=0)\n",
    "    \n",
    "    if driver.find_element_by_css_selector('#paginator > a.next')==[]:   # 判定是否还有“后页”按钮\n",
    "        break\n",
    "    \n",
    "    confirm_bnt = wait.until(\n",
    "    EC.element_to_be_clickable(\n",
    "    (By.CSS_SELECTOR, '#paginator > a.next')\n",
    "    )\n",
    "    )\n",
    "    # 找到该元素\n",
    "    \n",
    "    confirm_bnt.click() # 点击页面跳转"
   ]
  },
  {
   "cell_type": "code",
   "execution_count": null,
   "metadata": {},
   "outputs": [],
   "source": [
    "all_data.tocsv('douban.csv', index=None, encoding='GB18030')"
   ]
  },
  {
   "cell_type": "code",
   "execution_count": null,
   "metadata": {},
   "outputs": [],
   "source": []
  }
 ],
 "metadata": {
  "kernelspec": {
   "display_name": "Python 3",
   "language": "python",
   "name": "python3"
  },
  "language_info": {
   "codemirror_mode": {
    "name": "ipython",
    "version": 3
   },
   "file_extension": ".py",
   "mimetype": "text/x-python",
   "name": "python",
   "nbconvert_exporter": "python",
   "pygments_lexer": "ipython3",
   "version": "3.7.4"
  }
 },
 "nbformat": 4,
 "nbformat_minor": 2
}
